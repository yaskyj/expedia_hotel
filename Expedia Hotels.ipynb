{
 "cells": [
  {
   "cell_type": "code",
   "execution_count": 1,
   "metadata": {
    "collapsed": false
   },
   "outputs": [
    {
     "name": "stdout",
     "output_type": "stream",
     "text": [
      "CPU times: user 779 ms, sys: 153 ms, total: 932 ms\n",
      "Wall time: 985 ms\n"
     ]
    }
   ],
   "source": [
    "# %%time\n",
    "import warnings\n",
    "warnings.filterwarnings('ignore')\n",
    "import pandas as pd\n",
    "import numpy as np\n",
    "from sklearn import cross_validation, ensemble, tree, preprocessing, neighbors, naive_bayes\n",
    "from sklearn.grid_search import GridSearchCV\n",
    "from sklearn.metrics import confusion_matrix, precision_recall_fscore_support, accuracy_score\n",
    "le = preprocessing.LabelEncoder()\n",
    "import xgboost as xgb\n",
    "from datetime import datetime, date\n",
    "from sklearn.preprocessing import StandardScaler\n",
    "from sklearn.preprocessing import OneHotEncoder\n",
    "from sklearn.decomposition import PCA\n",
    "import matplotlib.pylab as plt\n",
    "from mpl_toolkits.mplot3d import Axes3D\n",
    "%matplotlib inline"
   ]
  },
  {
   "cell_type": "code",
   "execution_count": 2,
   "metadata": {
    "collapsed": false
   },
   "outputs": [
    {
     "name": "stdout",
     "output_type": "stream",
     "text": [
      "CPU times: user 10 µs, sys: 3 µs, total: 13 µs\n",
      "Wall time: 15 µs\n"
     ]
    }
   ],
   "source": [
    "# %%time\n",
    "import numpy as np\n",
    "\n",
    "def apk(actual, predicted, k=10):\n",
    "    \"\"\"\n",
    "    Computes the average precision at k.\n",
    "    This function computes the average prescision at k between two lists of\n",
    "    items.\n",
    "    Parameters\n",
    "    ----------\n",
    "    actual : list\n",
    "             A list of elements that are to be predicted (order doesn't matter)\n",
    "    predicted : list\n",
    "                A list of predicted elements (order does matter)\n",
    "    k : int, optional\n",
    "        The maximum number of predicted elements\n",
    "    Returns\n",
    "    -------\n",
    "    score : double\n",
    "            The average precision at k over the input lists\n",
    "    \"\"\"\n",
    "    if len(predicted)>k:\n",
    "        predicted = predicted[:k]\n",
    "\n",
    "    score = 0.0\n",
    "    num_hits = 0.0\n",
    "\n",
    "    for i,p in enumerate(predicted):\n",
    "        if p in actual and p not in predicted[:i]:\n",
    "            num_hits += 1.0\n",
    "            score += num_hits / (i+1.0)\n",
    "\n",
    "    if not actual:\n",
    "        return 0.0\n",
    "\n",
    "    return score / min(len(actual), k)\n",
    "\n",
    "def mapk(actual, predicted, k=10):\n",
    "    \"\"\"\n",
    "    Computes the mean average precision at k.\n",
    "    This function computes the mean average prescision at k between two lists\n",
    "    of lists of items.\n",
    "    Parameters\n",
    "    ----------\n",
    "    actual : list\n",
    "             A list of lists of elements that are to be predicted \n",
    "             (order doesn't matter in the lists)\n",
    "    predicted : list\n",
    "                A list of lists of predicted elements\n",
    "                (order matters in the lists)\n",
    "    k : int, optional\n",
    "        The maximum number of predicted elements\n",
    "    Returns\n",
    "    -------\n",
    "    score : double\n",
    "            The mean average precision at k over the input lists\n",
    "    \"\"\"\n",
    "    return np.mean([apk(a,p,k) for a,p in zip(actual, predicted)])"
   ]
  },
  {
   "cell_type": "code",
   "execution_count": 3,
   "metadata": {
    "collapsed": false
   },
   "outputs": [
    {
     "name": "stdout",
     "output_type": "stream",
     "text": [
      "CPU times: user 23 µs, sys: 34 µs, total: 57 µs\n",
      "Wall time: 98.9 µs\n"
     ]
    }
   ],
   "source": [
    "# %%time\n",
    "ids = []\n",
    "predictions = []"
   ]
  },
  {
   "cell_type": "code",
   "execution_count": 4,
   "metadata": {
    "collapsed": false
   },
   "outputs": [
    {
     "name": "stdout",
     "output_type": "stream",
     "text": [
      "CPU times: user 21 µs, sys: 9 µs, total: 30 µs\n",
      "Wall time: 26 µs\n"
     ]
    }
   ],
   "source": [
    "# %%time\n",
    "train_dtypes = {'date_time': pd.np.object,\n",
    "'site_name': pd.np.int64,\n",
    "'posa_continent': pd.np.int64,\n",
    "'user_location_country': pd.np.int64,\n",
    "'user_location_region': pd.np.int64,\n",
    "'user_location_city': pd.np.int64,\n",
    "'orig_destination_distance': pd.np.float64,\n",
    "'user_id': pd.np.int64,\n",
    "'is_mobile': pd.np.int64,\n",
    "'is_package': pd.np.int64,\n",
    "'channel': pd.np.int64,\n",
    "'srch_ci': pd.np.object,\n",
    "'srch_co': pd.np.object,\n",
    "'srch_adults_cnt': pd.np.int64,\n",
    "'srch_children_cnt': pd.np.int64,\n",
    "'srch_rm_cnt': pd.np.int64,\n",
    "'srch_destination_id': pd.np.int64,\n",
    "'srch_destination_type_id': pd.np.int64,\n",
    "'is_booking': pd.np.int64,\n",
    "'cnt': pd.np.int64,\n",
    "'hotel_continent': pd.np.int64,\n",
    "'hotel_country': pd.np.int64,\n",
    "'hotel_market': pd.np.int64,\n",
    "'hotel_cluster': pd.np.int64}\n",
    "\n",
    "test_dtypes = {'id': pd.np.int64,\n",
    "'date_time': pd.np.object,\n",
    "'site_name': pd.np.int64,\n",
    "'posa_continent': pd.np.int64,\n",
    "'user_location_country': pd.np.int64,\n",
    "'user_location_region': pd.np.int64,\n",
    "'user_location_city': pd.np.int64,\n",
    "'orig_destination_distance': pd.np.float64,\n",
    "'user_id': pd.np.int64,\n",
    "'is_mobile': pd.np.int64,\n",
    "'is_package': pd.np.int64,\n",
    "'channel': pd.np.int64,\n",
    "'srch_ci': pd.np.object,\n",
    "'srch_co': pd.np.object,\n",
    "'srch_adults_cnt': pd.np.int64,\n",
    "'srch_children_cnt': pd.np.int64,\n",
    "'srch_rm_cnt': pd.np.int64,\n",
    "'srch_destination_id': pd.np.int64,\n",
    "'srch_destination_type_id': pd.np.int64,\n",
    "'hotel_continent': pd.np.int64,\n",
    "'hotel_country': pd.np.int64,\n",
    "'hotel_market': pd.np.int64}"
   ]
  },
  {
   "cell_type": "code",
   "execution_count": 5,
   "metadata": {
    "collapsed": false
   },
   "outputs": [
    {
     "name": "stdout",
     "output_type": "stream",
     "text": [
      "CPU times: user 3min 8s, sys: 45.3 s, total: 3min 53s\n",
      "Wall time: 3min 55s\n"
     ]
    }
   ],
   "source": [
    "# %%time\n",
    "test = pd.read_csv('test.csv', dtype=test_dtypes)\n",
    "train = pd.read_csv('train.csv', dtype=train_dtypes, iterator=True, chunksize=100000)\n",
    "# train = pd.concat([chunk[chunk['user_location_city'].isin(np.unique(test.user_location_city))] for chunk in train], ignore_index=True)\n",
    "# train = pd.concat([chunk[chunk['is_booking'] == 1] for chunk in train], ignore_index=True)\n",
    "# train = pd.concat([chunk for chunk in train], ignore_index=True)\n",
    "train = pd.concat([chunk[(chunk['user_id'].isin(np.unique(test.user_id))) & (chunk['is_booking'] == 1)] for chunk in train], ignore_index=True)\n",
    "# train = train[train['user_id'].isin(np.unique(test.user_id))]\n",
    "destinations = pd.read_csv('destinations.csv')"
   ]
  },
  {
   "cell_type": "code",
   "execution_count": 6,
   "metadata": {
    "collapsed": false
   },
   "outputs": [
    {
     "name": "stdout",
     "output_type": "stream",
     "text": [
      "2968785 2528243\n"
     ]
    }
   ],
   "source": [
    "print len(train), len(test)"
   ]
  },
  {
   "cell_type": "code",
   "execution_count": 7,
   "metadata": {
    "collapsed": false
   },
   "outputs": [
    {
     "name": "stdout",
     "output_type": "stream",
     "text": [
      "CPU times: user 1.22 s, sys: 157 ms, total: 1.38 s\n",
      "Wall time: 957 ms\n"
     ]
    }
   ],
   "source": [
    "# %%time\n",
    "destination_ids = destinations['srch_destination_id']\n",
    "destinations = destinations.drop(['srch_destination_id'], 1)\n",
    "pca = PCA(n_components=11, whiten=True)\n",
    "destinations = pca.fit_transform(destinations)\n",
    "destinations = pd.DataFrame(destinations)\n",
    "destinations['srch_destination_id'] = destination_ids"
   ]
  },
  {
   "cell_type": "code",
   "execution_count": 8,
   "metadata": {
    "collapsed": false
   },
   "outputs": [
    {
     "name": "stdout",
     "output_type": "stream",
     "text": [
      "CPU times: user 5.95 s, sys: 530 ms, total: 6.48 s\n",
      "Wall time: 6.47 s\n"
     ]
    }
   ],
   "source": [
    "# %%time\n",
    "# train['id'] = [i for i in range(0, len(train))]\n",
    "train['orig_destination_distance'] = train['orig_destination_distance'].fillna(-1)\n",
    "train['date_time'] = pd.to_datetime(train['date_time'], errors='coerce')\n",
    "train['srch_ci'] = pd.to_datetime(train['srch_ci'], errors='coerce')\n",
    "train['srch_co'] = pd.to_datetime(train['srch_co'], errors='coerce')\n",
    "train['activity_month'] = train['date_time'].fillna(-1).dt.month.astype(int)\n",
    "train['activity_year'] = train['date_time'].fillna(-1).dt.year.astype(int)\n",
    "train['activity_dow'] = train['date_time'].fillna(-1).dt.dayofweek.astype(int)\n",
    "train['activity_day'] = train['date_time'].fillna(-1).dt.day.astype(int)\n",
    "train['activity_quarter'] = train['date_time'].fillna(-1).dt.quarter.astype(int)\n",
    "train['checkin_month'] = train['srch_ci'].fillna(-1).dt.month.astype(int)\n",
    "train['checkin_year'] = train['srch_ci'].fillna(-1).dt.year.astype(int)\n",
    "train['checkin_dow'] = train['srch_ci'].fillna(-1).dt.dayofweek.astype(int)\n",
    "train['checkin_day'] = train['srch_ci'].fillna(-1).dt.day.astype(int)\n",
    "train['checkin_quarter'] = train['srch_ci'].fillna(-1).dt.quarter.astype(int)\n",
    "train['checkout_month'] = train['srch_co'].fillna(-1).dt.month.astype(int)\n",
    "train['checkout_year'] = train['srch_co'].fillna(-1).dt.year.astype(int)\n",
    "train['checkout_dow'] = train['srch_co'].fillna(-1).dt.dayofweek.astype(int)\n",
    "train['checkout_day'] = train['srch_co'].fillna(-1).dt.day.astype(int)\n",
    "train['checkout_quarter'] = train['srch_co'].fillna(-1).dt.quarter.astype(int)\n",
    "train['stay_length'] = (train['srch_co'] - train['srch_ci']).astype(int)"
   ]
  },
  {
   "cell_type": "code",
   "execution_count": 9,
   "metadata": {
    "collapsed": false
   },
   "outputs": [
    {
     "name": "stdout",
     "output_type": "stream",
     "text": [
      "CPU times: user 4.75 s, sys: 511 ms, total: 5.26 s\n",
      "Wall time: 5.26 s\n"
     ]
    }
   ],
   "source": [
    "# %%time\n",
    "test['orig_destination_distance'] = test['orig_destination_distance'].fillna(-1)\n",
    "test['date_time'] = pd.to_datetime(test['date_time'], errors='coerce')\n",
    "test['srch_ci'] = pd.to_datetime(test['srch_ci'], errors='coerce')\n",
    "test['srch_co'] = pd.to_datetime(test['srch_co'], errors='coerce')\n",
    "test['activity_month'] = test['date_time'].fillna(-1).dt.month.astype(int)\n",
    "test['activity_year'] = test['date_time'].fillna(-1).dt.year.astype(int)\n",
    "test['activity_dow'] = test['date_time'].fillna(-1).dt.dayofweek.astype(int)\n",
    "test['activity_day'] = test['date_time'].fillna(-1).dt.day.astype(int)\n",
    "test['activity_quarter'] = test['date_time'].fillna(-1).dt.quarter.astype(int)\n",
    "test['checkin_month'] = test['srch_ci'].fillna(-1).dt.month.astype(int)\n",
    "test['checkin_year'] = test['srch_ci'].fillna(-1).dt.year.astype(int)\n",
    "test['checkin_dow'] = test['srch_ci'].fillna(-1).dt.dayofweek.astype(int)\n",
    "test['checkin_day'] = test['srch_ci'].fillna(-1).dt.day.astype(int)\n",
    "test['checkin_quarter'] = test['srch_ci'].fillna(-1).dt.quarter.astype(int)\n",
    "test['checkout_month'] = test['srch_co'].fillna(-1).dt.month.astype(int)\n",
    "test['checkout_year'] = test['srch_co'].fillna(-1).dt.year.astype(int)\n",
    "test['checkout_dow'] = test['srch_co'].fillna(-1).dt.dayofweek.astype(int)\n",
    "test['checkout_day'] = test['srch_co'].fillna(-1).dt.day.astype(int)\n",
    "test['checkout_quarter'] = test['srch_co'].fillna(-1).dt.quarter.astype(int)\n",
    "test['stay_length'] = (test['srch_co'] - test['srch_ci']).astype(int)"
   ]
  },
  {
   "cell_type": "code",
   "execution_count": 10,
   "metadata": {
    "collapsed": false
   },
   "outputs": [
    {
     "name": "stdout",
     "output_type": "stream",
     "text": [
      "CPU times: user 2.02 s, sys: 3.84 s, total: 5.86 s\n",
      "Wall time: 6.77 s\n"
     ]
    }
   ],
   "source": [
    "# %%time\n",
    "train = pd.merge(train, destinations, how='left')\n",
    "train.fillna(-1, inplace=True)"
   ]
  },
  {
   "cell_type": "code",
   "execution_count": 11,
   "metadata": {
    "collapsed": false
   },
   "outputs": [
    {
     "name": "stdout",
     "output_type": "stream",
     "text": [
      "CPU times: user 1.71 s, sys: 2.21 s, total: 3.92 s\n",
      "Wall time: 4.81 s\n"
     ]
    }
   ],
   "source": [
    "# %%time\n",
    "test = pd.merge(test, destinations, how='left')\n",
    "test.fillna(-1, inplace=True)"
   ]
  },
  {
   "cell_type": "code",
   "execution_count": 20,
   "metadata": {
    "collapsed": false
   },
   "outputs": [
    {
     "name": "stdout",
     "output_type": "stream",
     "text": [
      "CPU times: user 79 µs, sys: 72 µs, total: 151 µs\n",
      "Wall time: 149 µs\n"
     ]
    }
   ],
   "source": [
    "# %%time\n",
    "features = [c for c in train.columns if c not in ['id', 'is_booking', 'cnt', 'hotel_cluster', 'date_time', 'srch_ci', 'srch_co']]"
   ]
  },
  {
   "cell_type": "code",
   "execution_count": null,
   "metadata": {
    "collapsed": false
   },
   "outputs": [],
   "source": [
    "print len(np.unique(train.user_id)), len(np.unique(test.user_id))"
   ]
  },
  {
   "cell_type": "code",
   "execution_count": null,
   "metadata": {
    "collapsed": false
   },
   "outputs": [],
   "source": [
    "# %%time\n",
    "features_train, features_test, labels_train, labels_test = cross_validation.train_test_split(train[features], train['hotel_cluster'], test_size=0.50)\n",
    "features_train, features_test, labels_train, labels_test = cross_validation.train_test_split(features_train, labels_train, test_size=0.60)"
   ]
  },
  {
   "cell_type": "code",
   "execution_count": 22,
   "metadata": {
    "collapsed": false
   },
   "outputs": [
    {
     "name": "stdout",
     "output_type": "stream",
     "text": [
      "CPU times: user 8min 53s, sys: 51.9 s, total: 9min 45s\n",
      "Wall time: 3min 30s\n"
     ]
    }
   ],
   "source": [
    "# %%time\n",
    "# neigh = neighbors.KNeighborsClassifier(weights='distance', n_jobs=-1).fit(train[features], train['hotel_cluster'])\n",
    "forest = ensemble.RandomForestClassifier(n_estimators=10, n_jobs=-1).fit(train[features], train['hotel_cluster'])\n",
    "# bayes = naive_bayes.GaussianNB().fit(train[features], train['hotel_cluster'])"
   ]
  },
  {
   "cell_type": "code",
   "execution_count": 23,
   "metadata": {
    "collapsed": false
   },
   "outputs": [
    {
     "name": "stdout",
     "output_type": "stream",
     "text": [
      "CPU times: user 11min 13s, sys: 3min 31s, total: 14min 44s\n",
      "Wall time: 13min 27s\n"
     ]
    }
   ],
   "source": [
    "# %%time\n",
    "probs = pd.DataFrame(forest.predict_proba(test[features]))\n",
    "probs.columns = np.unique(train['hotel_cluster'].sort_values().values)\n",
    "# probs.columns = np.unique(labels_train.sort_values().values)\n",
    "# probs.columns = np.unique(labels_train.values)\n",
    "preds = pd.DataFrame([list([r.sort_values(ascending=False)[:5].index.values]) for i,r in probs.iterrows()])\n",
    "# print mapk([[l] for l in labels_test], preds[0], 5)"
   ]
  },
  {
   "cell_type": "code",
   "execution_count": 24,
   "metadata": {
    "collapsed": false
   },
   "outputs": [
    {
     "name": "stdout",
     "output_type": "stream",
     "text": [
      "CPU times: user 7min 24s, sys: 8.29 s, total: 7min 33s\n",
      "Wall time: 7min 38s\n"
     ]
    }
   ],
   "source": [
    "# %%time\n",
    "submission = pd.DataFrame()\n",
    "submission['id'] = test['id']\n",
    "submission['hotel_cluster'] = [' '.join(str(x) for x in y) for y in preds.values]\n",
    "submission.sort_values(by='id', inplace=True)"
   ]
  },
  {
   "cell_type": "code",
   "execution_count": 27,
   "metadata": {
    "collapsed": false
   },
   "outputs": [
    {
     "name": "stdout",
     "output_type": "stream",
     "text": [
      "CPU times: user 223 µs, sys: 0 ns, total: 223 µs\n",
      "Wall time: 228 µs\n"
     ]
    },
    {
     "data": {
      "text/html": [
       "<div>\n",
       "<table border=\"1\" class=\"dataframe\">\n",
       "  <thead>\n",
       "    <tr style=\"text-align: right;\">\n",
       "      <th></th>\n",
       "      <th>id</th>\n",
       "      <th>hotel_cluster</th>\n",
       "    </tr>\n",
       "  </thead>\n",
       "  <tbody>\n",
       "    <tr>\n",
       "      <th>0</th>\n",
       "      <td>0</td>\n",
       "      <td>[37 55 11 35  5]</td>\n",
       "    </tr>\n",
       "    <tr>\n",
       "      <th>1</th>\n",
       "      <td>1</td>\n",
       "      <td>[22 28 30 78 91]</td>\n",
       "    </tr>\n",
       "    <tr>\n",
       "      <th>2</th>\n",
       "      <td>2</td>\n",
       "      <td>[ 0 42 48 23 31]</td>\n",
       "    </tr>\n",
       "    <tr>\n",
       "      <th>3</th>\n",
       "      <td>3</td>\n",
       "      <td>[79 45 24 19 99]</td>\n",
       "    </tr>\n",
       "    <tr>\n",
       "      <th>4</th>\n",
       "      <td>4</td>\n",
       "      <td>[77 99 83 25 28]</td>\n",
       "    </tr>\n",
       "  </tbody>\n",
       "</table>\n",
       "</div>"
      ],
      "text/plain": [
       "   id     hotel_cluster\n",
       "0   0  [37 55 11 35  5]\n",
       "1   1  [22 28 30 78 91]\n",
       "2   2  [ 0 42 48 23 31]\n",
       "3   3  [79 45 24 19 99]\n",
       "4   4  [77 99 83 25 28]"
      ]
     },
     "execution_count": 27,
     "metadata": {},
     "output_type": "execute_result"
    }
   ],
   "source": [
    "# %%time\n",
    "submission.head()"
   ]
  },
  {
   "cell_type": "code",
   "execution_count": 26,
   "metadata": {
    "collapsed": false
   },
   "outputs": [
    {
     "name": "stdout",
     "output_type": "stream",
     "text": [
      "CPU times: user 2.69 s, sys: 109 ms, total: 2.8 s\n",
      "Wall time: 2.9 s\n"
     ]
    }
   ],
   "source": [
    "# %%time\n",
    "submission.to_csv('submission.csv', index=False)"
   ]
  },
  {
   "cell_type": "code",
   "execution_count": null,
   "metadata": {
    "collapsed": true
   },
   "outputs": [],
   "source": []
  }
 ],
 "metadata": {
  "kernelspec": {
   "display_name": "Python 2",
   "language": "python",
   "name": "python2"
  },
  "language_info": {
   "codemirror_mode": {
    "name": "ipython",
    "version": 2
   },
   "file_extension": ".py",
   "mimetype": "text/x-python",
   "name": "python",
   "nbconvert_exporter": "python",
   "pygments_lexer": "ipython2",
   "version": "2.7.11"
  }
 },
 "nbformat": 4,
 "nbformat_minor": 0
}
