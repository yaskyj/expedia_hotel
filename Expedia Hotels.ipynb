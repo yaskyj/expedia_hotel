{
 "cells": [
  {
   "cell_type": "code",
   "execution_count": 9,
   "metadata": {
    "collapsed": false
   },
   "outputs": [
    {
     "name": "stdout",
     "output_type": "stream",
     "text": [
      "CPU times: user 10.7 ms, sys: 8.86 ms, total: 19.6 ms\n",
      "Wall time: 66.5 ms\n"
     ]
    }
   ],
   "source": [
    "%%time\n",
    "import warnings\n",
    "warnings.filterwarnings('ignore')\n",
    "import pandas as pd\n",
    "import numpy as np\n",
    "from sklearn import cross_validation, ensemble, tree, metrics, preprocessing\n",
    "from sklearn.grid_search import GridSearchCV\n",
    "from sklearn.metrics import confusion_matrix, precision_recall_fscore_support, accuracy_score\n",
    "le = preprocessing.LabelEncoder()\n",
    "import xgboost as xgb\n",
    "from datetime import datetime, date\n",
    "from sklearn.preprocessing import StandardScaler\n",
    "from sklearn.preprocessing import OneHotEncoder\n",
    "import matplotlib.pylab as plt\n",
    "from sklearn.decomposition import PCA\n",
    "%matplotlib inline\n",
    "from matplotlib.pylab import rcParams\n",
    "rcParams['figure.figsize'] = 12, 4"
   ]
  },
  {
   "cell_type": "code",
   "execution_count": 2,
   "metadata": {
    "collapsed": true
   },
   "outputs": [],
   "source": [
    "%%time\n",
    "import numpy as np\n",
    "\n",
    "def apk(actual, predicted, k=10):\n",
    "    \"\"\"\n",
    "    Computes the average precision at k.\n",
    "    This function computes the average prescision at k between two lists of\n",
    "    items.\n",
    "    Parameters\n",
    "    ----------\n",
    "    actual : list\n",
    "             A list of elements that are to be predicted (order doesn't matter)\n",
    "    predicted : list\n",
    "                A list of predicted elements (order does matter)\n",
    "    k : int, optional\n",
    "        The maximum number of predicted elements\n",
    "    Returns\n",
    "    -------\n",
    "    score : double\n",
    "            The average precision at k over the input lists\n",
    "    \"\"\"\n",
    "    if len(predicted)>k:\n",
    "        predicted = predicted[:k]\n",
    "\n",
    "    score = 0.0\n",
    "    num_hits = 0.0\n",
    "\n",
    "    for i,p in enumerate(predicted):\n",
    "        if p in actual and p not in predicted[:i]:\n",
    "            num_hits += 1.0\n",
    "            score += num_hits / (i+1.0)\n",
    "\n",
    "    if not actual:\n",
    "        return 0.0\n",
    "\n",
    "    return score / min(len(actual), k)\n",
    "\n",
    "def mapk(actual, predicted, k=10):\n",
    "    \"\"\"\n",
    "    Computes the mean average precision at k.\n",
    "    This function computes the mean average prescision at k between two lists\n",
    "    of lists of items.\n",
    "    Parameters\n",
    "    ----------\n",
    "    actual : list\n",
    "             A list of lists of elements that are to be predicted \n",
    "             (order doesn't matter in the lists)\n",
    "    predicted : list\n",
    "                A list of lists of predicted elements\n",
    "                (order matters in the lists)\n",
    "    k : int, optional\n",
    "        The maximum number of predicted elements\n",
    "    Returns\n",
    "    -------\n",
    "    score : double\n",
    "            The mean average precision at k over the input lists\n",
    "    \"\"\"\n",
    "    return np.mean([apk(a,p,k) for a,p in zip(actual, predicted)])"
   ]
  },
  {
   "cell_type": "code",
   "execution_count": 3,
   "metadata": {
    "collapsed": false
   },
   "outputs": [
    {
     "name": "stdout",
     "output_type": "stream",
     "text": [
      "CPU times: user 11 µs, sys: 5 µs, total: 16 µs\n",
      "Wall time: 16 µs\n"
     ]
    }
   ],
   "source": [
    "%%time\n",
    "train_dtypes = {'date_time': pd.np.object,\n",
    "'site_name': pd.np.int64,\n",
    "'posa_continent': pd.np.int64,\n",
    "'user_location_country': pd.np.int64,\n",
    "'user_location_region': pd.np.int64,\n",
    "'user_location_city': pd.np.int64,\n",
    "'orig_destination_distance': pd.np.float64,\n",
    "'user_id': pd.np.int64,\n",
    "'is_mobile': pd.np.int64,\n",
    "'is_package': pd.np.int64,\n",
    "'channel': pd.np.int64,\n",
    "'srch_ci': pd.np.object,\n",
    "'srch_co': pd.np.object,\n",
    "'srch_adults_cnt': pd.np.int64,\n",
    "'srch_children_cnt': pd.np.int64,\n",
    "'srch_rm_cnt': pd.np.int64,\n",
    "'srch_destination_id': pd.np.int64,\n",
    "'srch_destination_type_id': pd.np.int64,\n",
    "'is_booking': pd.np.int64,\n",
    "'cnt': pd.np.int64,\n",
    "'hotel_continent': pd.np.int64,\n",
    "'hotel_country': pd.np.int64,\n",
    "'hotel_market': pd.np.int64,\n",
    "'hotel_cluster': pd.np.int64}"
   ]
  },
  {
   "cell_type": "code",
   "execution_count": 4,
   "metadata": {
    "collapsed": false
   },
   "outputs": [
    {
     "name": "stdout",
     "output_type": "stream",
     "text": [
      "CPU times: user 3min 27s, sys: 31.7 s, total: 3min 59s\n",
      "Wall time: 4min\n"
     ]
    }
   ],
   "source": [
    "%%time\n",
    "all_train = pd.read_csv('train.csv', dtype=train_dtypes, iterator=True, chunksize=1000)\n",
    "all_train = pd.concat([chunk[chunk['is_booking'] == 1] for chunk in all_train], ignore_index=True)\n",
    "# all_train = pd.concat(all_train, ignore_index=True)"
   ]
  },
  {
   "cell_type": "code",
   "execution_count": 5,
   "metadata": {
    "collapsed": false
   },
   "outputs": [
    {
     "name": "stdout",
     "output_type": "stream",
     "text": [
      "CPU times: user 6.93 s, sys: 641 ms, total: 7.57 s\n",
      "Wall time: 7.6 s\n"
     ]
    }
   ],
   "source": [
    "%%time\n",
    "all_train['id'] = [i for i in range(0, len(all_train))]\n",
    "all_train['orig_destination_distance'] = all_train['orig_destination_distance'].fillna(-1)\n",
    "all_train['date_time'] = pd.to_datetime(all_train['date_time'], errors='coerce')\n",
    "all_train['srch_ci'] = pd.to_datetime(all_train['srch_ci'], errors='coerce')\n",
    "all_train['srch_co'] = pd.to_datetime(all_train['srch_co'], errors='coerce')\n",
    "all_train['activity_month'] = all_train['date_time'].fillna(-1).dt.month.astype(int)\n",
    "all_train['activity_year'] = all_train['date_time'].fillna(-1).dt.year.astype(int)\n",
    "all_train['activity_dow'] = all_train['date_time'].fillna(-1).dt.dayofweek.astype(int)\n",
    "all_train['activity_day'] = all_train['date_time'].fillna(-1).dt.day.astype(int)\n",
    "all_train['activity_quarter'] = all_train['date_time'].fillna(-1).dt.quarter.astype(int)\n",
    "all_train['checkin_month'] = all_train['srch_ci'].fillna(-1).dt.month.astype(int)\n",
    "all_train['checkin_year'] = all_train['srch_ci'].fillna(-1).dt.year.astype(int)\n",
    "all_train['checkin_dow'] = all_train['srch_ci'].fillna(-1).dt.dayofweek.astype(int)\n",
    "all_train['checkin_day'] = all_train['srch_ci'].fillna(-1).dt.day.astype(int)\n",
    "all_train['checkin_quarter'] = all_train['srch_ci'].fillna(-1).dt.quarter.astype(int)\n",
    "all_train['checkout_month'] = all_train['srch_co'].fillna(-1).dt.month.astype(int)\n",
    "all_train['checkout_year'] = all_train['srch_co'].fillna(-1).dt.year.astype(int)\n",
    "all_train['checkout_dow'] = all_train['srch_co'].fillna(-1).dt.dayofweek.astype(int)\n",
    "all_train['checkout_day'] = all_train['srch_co'].fillna(-1).dt.day.astype(int)\n",
    "all_train['checkout_quarter'] = all_train['srch_co'].fillna(-1).dt.quarter.astype(int)\n",
    "all_train['stay_length'] = (all_train['srch_co'] - all_train['srch_ci']).astype(int)\n",
    "#Split groups into two different classifiers for destinations vs. no destinations"
   ]
  },
  {
   "cell_type": "code",
   "execution_count": 6,
   "metadata": {
    "collapsed": false
   },
   "outputs": [
    {
     "name": "stdout",
     "output_type": "stream",
     "text": [
      "CPU times: user 2.19 s, sys: 175 ms, total: 2.37 s\n",
      "Wall time: 2.4 s\n"
     ]
    }
   ],
   "source": [
    "%%time\n",
    "destinations = pd.read_csv('destinations.csv')"
   ]
  },
  {
   "cell_type": "code",
   "execution_count": 7,
   "metadata": {
    "collapsed": false
   },
   "outputs": [
    {
     "name": "stdout",
     "output_type": "stream",
     "text": [
      "CPU times: user 25.7 ms, sys: 19.1 ms, total: 44.8 ms\n",
      "Wall time: 49.7 ms\n"
     ]
    }
   ],
   "source": [
    "%%time\n",
    "destination_ids = destinations['srch_destination_id']\n",
    "destinations_reduced = destinations.drop(['srch_destination_id'], 1)"
   ]
  },
  {
   "cell_type": "code",
   "execution_count": 10,
   "metadata": {
    "collapsed": false
   },
   "outputs": [
    {
     "name": "stdout",
     "output_type": "stream",
     "text": [
      "CPU times: user 11 µs, sys: 3 µs, total: 14 µs\n",
      "Wall time: 15 µs\n"
     ]
    }
   ],
   "source": [
    "%%time\n",
    "pca = PCA(n_components=11, whiten=True)\n",
    "#pca = PCA()"
   ]
  },
  {
   "cell_type": "code",
   "execution_count": 11,
   "metadata": {
    "collapsed": false
   },
   "outputs": [
    {
     "name": "stdout",
     "output_type": "stream",
     "text": [
      "CPU times: user 1.19 s, sys: 165 ms, total: 1.35 s\n",
      "Wall time: 943 ms\n"
     ]
    },
    {
     "data": {
      "text/plain": [
       "PCA(copy=True, n_components=11, whiten=True)"
      ]
     },
     "execution_count": 11,
     "metadata": {},
     "output_type": "execute_result"
    }
   ],
   "source": [
    "%%time\n",
    "pca.fit(destinations_reduced)"
   ]
  },
  {
   "cell_type": "code",
   "execution_count": 12,
   "metadata": {
    "collapsed": false
   },
   "outputs": [
    {
     "name": "stdout",
     "output_type": "stream",
     "text": [
      "0.755874193278\n"
     ]
    }
   ],
   "source": [
    "print sum(pca.explained_variance_ratio_)"
   ]
  },
  {
   "cell_type": "code",
   "execution_count": 13,
   "metadata": {
    "collapsed": false
   },
   "outputs": [
    {
     "name": "stdout",
     "output_type": "stream",
     "text": [
      "CPU times: user 1.03 s, sys: 38.8 ms, total: 1.06 s\n",
      "Wall time: 589 ms\n"
     ]
    }
   ],
   "source": [
    "%%time\n",
    "destinations_reduced = pca.fit_transform(destinations_reduced)\n",
    "destinations_reduced = pd.DataFrame(destinations_reduced)\n",
    "destinations_reduced['srch_destination_id'] = destination_ids"
   ]
  },
  {
   "cell_type": "code",
   "execution_count": 14,
   "metadata": {
    "collapsed": false
   },
   "outputs": [
    {
     "name": "stdout",
     "output_type": "stream",
     "text": [
      "CPU times: user 1.01 s, sys: 1.19 s, total: 2.2 s\n",
      "Wall time: 2.44 s\n"
     ]
    }
   ],
   "source": [
    "%%time\n",
    "all_train = pd.merge(all_train, destinations_reduced, how='left')"
   ]
  },
  {
   "cell_type": "code",
   "execution_count": 15,
   "metadata": {
    "collapsed": false
   },
   "outputs": [
    {
     "name": "stdout",
     "output_type": "stream",
     "text": [
      "CPU times: user 1.15 s, sys: 3.42 s, total: 4.57 s\n",
      "Wall time: 5.64 s\n"
     ]
    }
   ],
   "source": [
    "%%time\n",
    "all_train.fillna(-1, inplace=True)"
   ]
  },
  {
   "cell_type": "code",
   "execution_count": 18,
   "metadata": {
    "collapsed": false
   },
   "outputs": [
    {
     "data": {
      "text/html": [
       "<div>\n",
       "<table border=\"1\" class=\"dataframe\">\n",
       "  <thead>\n",
       "    <tr style=\"text-align: right;\">\n",
       "      <th></th>\n",
       "      <th>site_name</th>\n",
       "      <th>posa_continent</th>\n",
       "      <th>user_location_country</th>\n",
       "      <th>user_location_region</th>\n",
       "      <th>user_location_city</th>\n",
       "      <th>orig_destination_distance</th>\n",
       "      <th>user_id</th>\n",
       "      <th>is_mobile</th>\n",
       "      <th>is_package</th>\n",
       "      <th>channel</th>\n",
       "      <th>...</th>\n",
       "      <th>1</th>\n",
       "      <th>2</th>\n",
       "      <th>3</th>\n",
       "      <th>4</th>\n",
       "      <th>5</th>\n",
       "      <th>6</th>\n",
       "      <th>7</th>\n",
       "      <th>8</th>\n",
       "      <th>9</th>\n",
       "      <th>10</th>\n",
       "    </tr>\n",
       "  </thead>\n",
       "  <tbody>\n",
       "    <tr>\n",
       "      <th>count</th>\n",
       "      <td>3.000693e+06</td>\n",
       "      <td>3.000693e+06</td>\n",
       "      <td>3.000693e+06</td>\n",
       "      <td>3.000693e+06</td>\n",
       "      <td>3.000693e+06</td>\n",
       "      <td>3.000693e+06</td>\n",
       "      <td>3.000693e+06</td>\n",
       "      <td>3.000693e+06</td>\n",
       "      <td>3.000693e+06</td>\n",
       "      <td>3.000693e+06</td>\n",
       "      <td>...</td>\n",
       "      <td>3.000693e+06</td>\n",
       "      <td>3.000693e+06</td>\n",
       "      <td>3.000693e+06</td>\n",
       "      <td>3.000693e+06</td>\n",
       "      <td>3.000693e+06</td>\n",
       "      <td>3.000693e+06</td>\n",
       "      <td>3.000693e+06</td>\n",
       "      <td>3.000693e+06</td>\n",
       "      <td>3.000693e+06</td>\n",
       "      <td>3.000693e+06</td>\n",
       "    </tr>\n",
       "    <tr>\n",
       "      <th>mean</th>\n",
       "      <td>9.373060e+00</td>\n",
       "      <td>2.705199e+00</td>\n",
       "      <td>8.762437e+01</td>\n",
       "      <td>3.129063e+02</td>\n",
       "      <td>2.788012e+04</td>\n",
       "      <td>1.117037e+03</td>\n",
       "      <td>6.066209e+05</td>\n",
       "      <td>9.921275e-02</td>\n",
       "      <td>1.366978e-01</td>\n",
       "      <td>6.179528e+00</td>\n",
       "      <td>...</td>\n",
       "      <td>2.118839e-01</td>\n",
       "      <td>2.970489e-01</td>\n",
       "      <td>-1.612115e-02</td>\n",
       "      <td>-4.144470e-01</td>\n",
       "      <td>-3.104634e-01</td>\n",
       "      <td>8.079592e-02</td>\n",
       "      <td>2.932281e-01</td>\n",
       "      <td>1.759076e-01</td>\n",
       "      <td>3.067173e-01</td>\n",
       "      <td>-8.919478e-02</td>\n",
       "    </tr>\n",
       "    <tr>\n",
       "      <th>std</th>\n",
       "      <td>1.191513e+01</td>\n",
       "      <td>7.296438e-01</td>\n",
       "      <td>5.901820e+01</td>\n",
       "      <td>2.044980e+02</td>\n",
       "      <td>1.673100e+04</td>\n",
       "      <td>1.928388e+03</td>\n",
       "      <td>3.493174e+05</td>\n",
       "      <td>2.989475e-01</td>\n",
       "      <td>3.435280e-01</td>\n",
       "      <td>3.610034e+00</td>\n",
       "      <td>...</td>\n",
       "      <td>1.447072e+00</td>\n",
       "      <td>1.680890e+00</td>\n",
       "      <td>1.290193e+00</td>\n",
       "      <td>1.352833e+00</td>\n",
       "      <td>1.973668e+00</td>\n",
       "      <td>2.170433e+00</td>\n",
       "      <td>1.210089e+00</td>\n",
       "      <td>1.185041e+00</td>\n",
       "      <td>1.207508e+00</td>\n",
       "      <td>1.307481e+00</td>\n",
       "    </tr>\n",
       "    <tr>\n",
       "      <th>min</th>\n",
       "      <td>2.000000e+00</td>\n",
       "      <td>0.000000e+00</td>\n",
       "      <td>0.000000e+00</td>\n",
       "      <td>0.000000e+00</td>\n",
       "      <td>0.000000e+00</td>\n",
       "      <td>-1.000000e+00</td>\n",
       "      <td>5.000000e+00</td>\n",
       "      <td>0.000000e+00</td>\n",
       "      <td>0.000000e+00</td>\n",
       "      <td>0.000000e+00</td>\n",
       "      <td>...</td>\n",
       "      <td>-9.196391e+00</td>\n",
       "      <td>-6.334904e+00</td>\n",
       "      <td>-3.970428e+00</td>\n",
       "      <td>-8.481397e+00</td>\n",
       "      <td>-9.921926e+00</td>\n",
       "      <td>-4.479331e+00</td>\n",
       "      <td>-6.480873e+00</td>\n",
       "      <td>-7.611597e+00</td>\n",
       "      <td>-1.204188e+01</td>\n",
       "      <td>-1.618853e+01</td>\n",
       "    </tr>\n",
       "    <tr>\n",
       "      <th>25%</th>\n",
       "      <td>2.000000e+00</td>\n",
       "      <td>3.000000e+00</td>\n",
       "      <td>6.600000e+01</td>\n",
       "      <td>1.740000e+02</td>\n",
       "      <td>1.340000e+04</td>\n",
       "      <td>-1.000000e+00</td>\n",
       "      <td>3.047260e+05</td>\n",
       "      <td>0.000000e+00</td>\n",
       "      <td>0.000000e+00</td>\n",
       "      <td>2.000000e+00</td>\n",
       "      <td>...</td>\n",
       "      <td>-1.826679e-02</td>\n",
       "      <td>-7.547446e-01</td>\n",
       "      <td>-9.218152e-01</td>\n",
       "      <td>-1.145623e+00</td>\n",
       "      <td>-8.607346e-01</td>\n",
       "      <td>-1.044911e+00</td>\n",
       "      <td>-5.209294e-01</td>\n",
       "      <td>-4.878143e-01</td>\n",
       "      <td>-3.607401e-01</td>\n",
       "      <td>-7.934810e-01</td>\n",
       "    </tr>\n",
       "    <tr>\n",
       "      <th>50%</th>\n",
       "      <td>2.000000e+00</td>\n",
       "      <td>3.000000e+00</td>\n",
       "      <td>6.600000e+01</td>\n",
       "      <td>3.140000e+02</td>\n",
       "      <td>2.765500e+04</td>\n",
       "      <td>2.132473e+02</td>\n",
       "      <td>6.068950e+05</td>\n",
       "      <td>0.000000e+00</td>\n",
       "      <td>0.000000e+00</td>\n",
       "      <td>9.000000e+00</td>\n",
       "      <td>...</td>\n",
       "      <td>5.186400e-01</td>\n",
       "      <td>3.465774e-01</td>\n",
       "      <td>-8.788875e-02</td>\n",
       "      <td>-1.278972e-01</td>\n",
       "      <td>5.659693e-02</td>\n",
       "      <td>-2.826261e-01</td>\n",
       "      <td>1.410039e-01</td>\n",
       "      <td>4.617944e-02</td>\n",
       "      <td>3.529450e-01</td>\n",
       "      <td>-5.230367e-02</td>\n",
       "    </tr>\n",
       "    <tr>\n",
       "      <th>75%</th>\n",
       "      <td>1.100000e+01</td>\n",
       "      <td>3.000000e+00</td>\n",
       "      <td>6.900000e+01</td>\n",
       "      <td>3.950000e+02</td>\n",
       "      <td>4.250000e+04</td>\n",
       "      <td>1.312669e+03</td>\n",
       "      <td>9.101020e+05</td>\n",
       "      <td>0.000000e+00</td>\n",
       "      <td>0.000000e+00</td>\n",
       "      <td>9.000000e+00</td>\n",
       "      <td>...</td>\n",
       "      <td>1.038655e+00</td>\n",
       "      <td>1.516731e+00</td>\n",
       "      <td>8.149316e-01</td>\n",
       "      <td>4.823635e-01</td>\n",
       "      <td>7.913757e-01</td>\n",
       "      <td>4.130731e-01</td>\n",
       "      <td>9.632594e-01</td>\n",
       "      <td>7.810385e-01</td>\n",
       "      <td>1.011367e+00</td>\n",
       "      <td>6.685248e-01</td>\n",
       "    </tr>\n",
       "    <tr>\n",
       "      <th>max</th>\n",
       "      <td>5.300000e+01</td>\n",
       "      <td>4.000000e+00</td>\n",
       "      <td>2.390000e+02</td>\n",
       "      <td>1.027000e+03</td>\n",
       "      <td>5.650700e+04</td>\n",
       "      <td>1.219917e+04</td>\n",
       "      <td>1.198784e+06</td>\n",
       "      <td>1.000000e+00</td>\n",
       "      <td>1.000000e+00</td>\n",
       "      <td>1.000000e+01</td>\n",
       "      <td>...</td>\n",
       "      <td>3.270848e+00</td>\n",
       "      <td>4.852579e+00</td>\n",
       "      <td>6.828371e+00</td>\n",
       "      <td>4.463351e+00</td>\n",
       "      <td>4.485526e+00</td>\n",
       "      <td>1.024373e+01</td>\n",
       "      <td>1.709379e+01</td>\n",
       "      <td>8.582214e+00</td>\n",
       "      <td>5.298626e+00</td>\n",
       "      <td>5.106518e+00</td>\n",
       "    </tr>\n",
       "  </tbody>\n",
       "</table>\n",
       "<p>8 rows × 49 columns</p>\n",
       "</div>"
      ],
      "text/plain": [
       "          site_name  posa_continent  user_location_country  \\\n",
       "count  3.000693e+06    3.000693e+06           3.000693e+06   \n",
       "mean   9.373060e+00    2.705199e+00           8.762437e+01   \n",
       "std    1.191513e+01    7.296438e-01           5.901820e+01   \n",
       "min    2.000000e+00    0.000000e+00           0.000000e+00   \n",
       "25%    2.000000e+00    3.000000e+00           6.600000e+01   \n",
       "50%    2.000000e+00    3.000000e+00           6.600000e+01   \n",
       "75%    1.100000e+01    3.000000e+00           6.900000e+01   \n",
       "max    5.300000e+01    4.000000e+00           2.390000e+02   \n",
       "\n",
       "       user_location_region  user_location_city  orig_destination_distance  \\\n",
       "count          3.000693e+06        3.000693e+06               3.000693e+06   \n",
       "mean           3.129063e+02        2.788012e+04               1.117037e+03   \n",
       "std            2.044980e+02        1.673100e+04               1.928388e+03   \n",
       "min            0.000000e+00        0.000000e+00              -1.000000e+00   \n",
       "25%            1.740000e+02        1.340000e+04              -1.000000e+00   \n",
       "50%            3.140000e+02        2.765500e+04               2.132473e+02   \n",
       "75%            3.950000e+02        4.250000e+04               1.312669e+03   \n",
       "max            1.027000e+03        5.650700e+04               1.219917e+04   \n",
       "\n",
       "            user_id     is_mobile    is_package       channel      ...       \\\n",
       "count  3.000693e+06  3.000693e+06  3.000693e+06  3.000693e+06      ...        \n",
       "mean   6.066209e+05  9.921275e-02  1.366978e-01  6.179528e+00      ...        \n",
       "std    3.493174e+05  2.989475e-01  3.435280e-01  3.610034e+00      ...        \n",
       "min    5.000000e+00  0.000000e+00  0.000000e+00  0.000000e+00      ...        \n",
       "25%    3.047260e+05  0.000000e+00  0.000000e+00  2.000000e+00      ...        \n",
       "50%    6.068950e+05  0.000000e+00  0.000000e+00  9.000000e+00      ...        \n",
       "75%    9.101020e+05  0.000000e+00  0.000000e+00  9.000000e+00      ...        \n",
       "max    1.198784e+06  1.000000e+00  1.000000e+00  1.000000e+01      ...        \n",
       "\n",
       "                  1             2             3             4             5  \\\n",
       "count  3.000693e+06  3.000693e+06  3.000693e+06  3.000693e+06  3.000693e+06   \n",
       "mean   2.118839e-01  2.970489e-01 -1.612115e-02 -4.144470e-01 -3.104634e-01   \n",
       "std    1.447072e+00  1.680890e+00  1.290193e+00  1.352833e+00  1.973668e+00   \n",
       "min   -9.196391e+00 -6.334904e+00 -3.970428e+00 -8.481397e+00 -9.921926e+00   \n",
       "25%   -1.826679e-02 -7.547446e-01 -9.218152e-01 -1.145623e+00 -8.607346e-01   \n",
       "50%    5.186400e-01  3.465774e-01 -8.788875e-02 -1.278972e-01  5.659693e-02   \n",
       "75%    1.038655e+00  1.516731e+00  8.149316e-01  4.823635e-01  7.913757e-01   \n",
       "max    3.270848e+00  4.852579e+00  6.828371e+00  4.463351e+00  4.485526e+00   \n",
       "\n",
       "                  6             7             8             9            10  \n",
       "count  3.000693e+06  3.000693e+06  3.000693e+06  3.000693e+06  3.000693e+06  \n",
       "mean   8.079592e-02  2.932281e-01  1.759076e-01  3.067173e-01 -8.919478e-02  \n",
       "std    2.170433e+00  1.210089e+00  1.185041e+00  1.207508e+00  1.307481e+00  \n",
       "min   -4.479331e+00 -6.480873e+00 -7.611597e+00 -1.204188e+01 -1.618853e+01  \n",
       "25%   -1.044911e+00 -5.209294e-01 -4.878143e-01 -3.607401e-01 -7.934810e-01  \n",
       "50%   -2.826261e-01  1.410039e-01  4.617944e-02  3.529450e-01 -5.230367e-02  \n",
       "75%    4.130731e-01  9.632594e-01  7.810385e-01  1.011367e+00  6.685248e-01  \n",
       "max    1.024373e+01  1.709379e+01  8.582214e+00  5.298626e+00  5.106518e+00  \n",
       "\n",
       "[8 rows x 49 columns]"
      ]
     },
     "execution_count": 18,
     "metadata": {},
     "output_type": "execute_result"
    }
   ],
   "source": [
    "%%time\n",
    "all_train.describe()"
   ]
  },
  {
   "cell_type": "code",
   "execution_count": 19,
   "metadata": {
    "collapsed": false
   },
   "outputs": [
    {
     "name": "stdout",
     "output_type": "stream",
     "text": [
      "CPU times: user 327 µs, sys: 39 µs, total: 366 µs\n",
      "Wall time: 341 µs\n"
     ]
    },
    {
     "data": {
      "text/plain": [
       "date_time                    datetime64[ns]\n",
       "site_name                             int64\n",
       "posa_continent                        int64\n",
       "user_location_country                 int64\n",
       "user_location_region                  int64\n",
       "user_location_city                    int64\n",
       "orig_destination_distance           float64\n",
       "user_id                               int64\n",
       "is_mobile                             int64\n",
       "is_package                            int64\n",
       "channel                               int64\n",
       "srch_ci                      datetime64[ns]\n",
       "srch_co                      datetime64[ns]\n",
       "srch_adults_cnt                       int64\n",
       "srch_children_cnt                     int64\n",
       "srch_rm_cnt                           int64\n",
       "srch_destination_id                   int64\n",
       "srch_destination_type_id              int64\n",
       "is_booking                            int64\n",
       "cnt                                   int64\n",
       "hotel_continent                       int64\n",
       "hotel_country                         int64\n",
       "hotel_market                          int64\n",
       "hotel_cluster                         int64\n",
       "id                                    int64\n",
       "activity_month                        int64\n",
       "activity_year                         int64\n",
       "activity_dow                          int64\n",
       "activity_day                          int64\n",
       "activity_quarter                      int64\n",
       "checkin_month                         int64\n",
       "checkin_year                          int64\n",
       "checkin_dow                           int64\n",
       "checkin_day                           int64\n",
       "checkin_quarter                       int64\n",
       "checkout_month                        int64\n",
       "checkout_year                         int64\n",
       "checkout_dow                          int64\n",
       "checkout_day                          int64\n",
       "checkout_quarter                      int64\n",
       "stay_length                           int64\n",
       "0                                   float64\n",
       "1                                   float64\n",
       "2                                   float64\n",
       "3                                   float64\n",
       "4                                   float64\n",
       "5                                   float64\n",
       "6                                   float64\n",
       "7                                   float64\n",
       "8                                   float64\n",
       "9                                   float64\n",
       "10                                  float64\n",
       "dtype: object"
      ]
     },
     "execution_count": 19,
     "metadata": {},
     "output_type": "execute_result"
    }
   ],
   "source": [
    "%%time\n",
    "all_train.dtypes"
   ]
  },
  {
   "cell_type": "code",
   "execution_count": 16,
   "metadata": {
    "collapsed": false
   },
   "outputs": [
    {
     "name": "stdout",
     "output_type": "stream",
     "text": [
      "CPU times: user 91 µs, sys: 142 µs, total: 233 µs\n",
      "Wall time: 216 µs\n"
     ]
    }
   ],
   "source": [
    "%%time\n",
    "features = [c for c in all_train.columns if c not in ['id', 'is_booking', 'cnt', 'hotel_cluster', 'date_time', 'srch_ci', 'srch_co']]"
   ]
  },
  {
   "cell_type": "code",
   "execution_count": null,
   "metadata": {
    "collapsed": false
   },
   "outputs": [],
   "source": [
    "%%time\n",
    "features_train, features_test, labels_train, labels_test = cross_validation.train_test_split(all_train[features], all_train['hotel_cluster'], test_size=0.50)\n",
    "features_train, features_test, labels_train, labels_test = cross_validation.train_test_split(features_train, labels_train, test_size=0.70)"
   ]
  },
  {
   "cell_type": "code",
   "execution_count": null,
   "metadata": {
    "collapsed": false
   },
   "outputs": [],
   "source": [
    "%%time\n",
    "clf = ensemble.ExtraTreesClassifier(min_samples_split=500)\n",
    "clf = clf.fit(features_train, labels_train)"
   ]
  },
  {
   "cell_type": "code",
   "execution_count": null,
   "metadata": {
    "collapsed": false
   },
   "outputs": [],
   "source": [
    "%%time\n",
    "model = SelectFromModel(clf, prefit=True)\n",
    "features_train = model.transform(features_train)"
   ]
  },
  {
   "cell_type": "code",
   "execution_count": null,
   "metadata": {
    "collapsed": false
   },
   "outputs": [],
   "source": [
    "# %%time\n",
    "# forest = ensemble.RandomForestClassifier(min_samples_split=500)\n",
    "# selector = RFECV(forest, step=1, cv=5)\n",
    "# selector = selector.fit(features_train, labels_train)\n",
    "# selector.support_ \n",
    "# selector.ranking_"
   ]
  },
  {
   "cell_type": "code",
   "execution_count": null,
   "metadata": {
    "collapsed": false
   },
   "outputs": [],
   "source": [
    "%%time\n",
    "forest = ensemble.RandomForestClassifier(min_samples_split=500)\n",
    "forest.fit(features_train, labels_train)\n",
    "# parameters = {'n_estimators':[10, 20], 'max_depth':[5, 10], 'min_samples_split':[250, 500]}\n",
    "# search = GridSearchCV(forest, parameters, n_jobs=1)\n",
    "# search.fit(features_train, labels_train)\n",
    "# clf.fit(all_train.drop(['id', 'is_booking', 'cnt', 'user_id', 'hotel_cluster', 'date_time', 'srch_ci', 'srch_co'], 1), all_train['hotel_cluster'])"
   ]
  },
  {
   "cell_type": "code",
   "execution_count": null,
   "metadata": {
    "collapsed": false
   },
   "outputs": [],
   "source": [
    "%%time\n",
    "features_test = model.transform(features_test)\n",
    "pred_probs = pd.DataFrame(forest.predict_proba(features_test))"
   ]
  },
  {
   "cell_type": "code",
   "execution_count": null,
   "metadata": {
    "collapsed": false
   },
   "outputs": [],
   "source": [
    "%%time\n",
    "#pred = pd.DataFrame([list([r.nlargest(5).index]) for i,r in pred_probs.iterrows()])\n",
    "pred = pd.DataFrame([list([r.sort_values(ascending=False)[:5].index.values]) for i,r in pred_probs.iterrows()])"
   ]
  },
  {
   "cell_type": "code",
   "execution_count": null,
   "metadata": {
    "collapsed": false
   },
   "outputs": [],
   "source": [
    "print mapk([[l] for l in labels_test], pred.values, k=5)"
   ]
  },
  {
   "cell_type": "code",
   "execution_count": null,
   "metadata": {
    "collapsed": false
   },
   "outputs": [],
   "source": [
    "# %%time\n",
    "#clf = LogisticRegression(tol=0.1)\n",
    "#clf = GaussianNB()\n",
    "#clf_with = ensemble.AdaBoostClassifier().fit(with_features, with_labels.values.ravel())\n",
    "#clf_wo = ensemble.AdaBoostClassifier().fit(wo_features, wo_labels.values.ravel())\n",
    "#clf = ensemble.AdaBoostClassifier(SVC(probability=True, kernel='linear'),n_estimators=10)\n",
    "#clf = ensemble.GradientBoostingClassifier(SVC(probability=True, kernel='linear'),n_estimators=100, learning_rate=1.0, max_depth=1, random_state=0)\n",
    "#clf = ensemble.GradientBoostingClassifier(n_estimators=100, learning_rate=1.0, max_depth=1, random_state=0, verbose=3)\n",
    "# clf_with = tree.DecisionTreeClassifier(min_samples_split=100).fit(with_features, with_labels.values.ravel())\n",
    "# clf_wo = tree.DecisionTreeClassifier(min_samples_split=50).fit(wo_features, wo_labels.values.ravel())\n",
    "# clf_with = ensemble.RandomForestClassifier(n_estimators=100, max_depth=5).fit(with_features, with_labels.values.ravel())\n",
    "# clf_wo = ensemble.RandomForestClassifier(n_estimators=20, min_samples_split=500, n_jobs=2).fit(wo_features, wo_labels.values.ravel())\n",
    "#clf - BernoulliNB()"
   ]
  },
  {
   "cell_type": "code",
   "execution_count": null,
   "metadata": {
    "collapsed": false
   },
   "outputs": [],
   "source": [
    "# %%time\n",
    "# with_dest_match = pd.merge(all_train, destinations_df)"
   ]
  },
  {
   "cell_type": "code",
   "execution_count": null,
   "metadata": {
    "collapsed": false
   },
   "outputs": [],
   "source": [
    "# %%time\n",
    "# wo_dest_match = all_train[~(all_train.id.isin(with_dest_match.id))]"
   ]
  },
  {
   "cell_type": "code",
   "execution_count": null,
   "metadata": {
    "collapsed": false
   },
   "outputs": [],
   "source": [
    "# %%time\n",
    "# with_features = with_dest_match.drop(['id', 'is_booking', 'cnt', 'user_id', 'hotel_cluster', 'date_time', 'srch_ci', 'srch_co'],1)\n",
    "# with_labels = with_dest_match['hotel_cluster']\n",
    "# wo_features = wo_dest_match.drop(['id', 'is_booking', 'cnt', 'user_id', 'hotel_cluster', 'date_time', 'srch_ci', 'srch_co'],1)\n",
    "# wo_labels = wo_dest_match['hotel_cluster']\n",
    "# with_features = with_features.reindex_axis(sorted(with_features.columns), axis=1)\n",
    "# wo_features = wo_features.reindex_axis(sorted(wo_features.columns), axis=1)"
   ]
  },
  {
   "cell_type": "code",
   "execution_count": null,
   "metadata": {
    "collapsed": false
   },
   "outputs": [],
   "source": [
    "# all_scores = []\n",
    "# %%time\n",
    "# for i in range(0, 20):\n",
    "#     features_train, features_test, labels_train, labels_test = cross_validation.train_test_split(features, labels, test_size=0.5)\n",
    "#     clf = tree.DecisionTreeClassifier(min_samples_split=500)\n",
    "#     clf = clf.fit(features_train, labels_train.values.ravel())\n",
    "#     pred_probs = pd.DataFrame(clf.predict_proba(features_test))\n",
    "#     pred_probs = pd.DataFrame([list([r.sort_values(ascending=False)[:3].index.values]) for i,r in pred_probs.iterrows()])\n",
    "#     labels_test_df = pd.DataFrame(labels_test.values, index=range(0, len(labels_test)))\n",
    "#     test_score = mapk(labels_test_df.values, pred_probs.values)\n",
    "#     all_scores.append(test_score)\n",
    "# print np.mean(all_scores)"
   ]
  },
  {
   "cell_type": "code",
   "execution_count": null,
   "metadata": {
    "collapsed": false
   },
   "outputs": [],
   "source": [
    "%%time\n",
    "test_score = mapk(labels_test_df.values, pred_probs.values)\n",
    "print test_score"
   ]
  },
  {
   "cell_type": "code",
   "execution_count": null,
   "metadata": {
    "collapsed": false
   },
   "outputs": [],
   "source": [
    "%%time\n",
    "test_dtypes = {'id': pd.np.int64,\n",
    "'date_time': pd.np.object,\n",
    "'site_name': pd.np.int64,\n",
    "'posa_continent': pd.np.int64,\n",
    "'user_location_country': pd.np.int64,\n",
    "'user_location_region': pd.np.int64,\n",
    "'user_location_city': pd.np.int64,\n",
    "'orig_destination_distance': pd.np.float64,\n",
    "'user_id': pd.np.int64,\n",
    "'is_mobile': pd.np.int64,\n",
    "'is_package': pd.np.int64,\n",
    "'channel': pd.np.int64,\n",
    "'srch_ci': pd.np.object,\n",
    "'srch_co': pd.np.object,\n",
    "'srch_adults_cnt': pd.np.int64,\n",
    "'srch_children_cnt': pd.np.int64,\n",
    "'srch_rm_cnt': pd.np.int64,\n",
    "'srch_destination_id': pd.np.int64,\n",
    "'srch_destination_type_id': pd.np.int64,\n",
    "'hotel_continent': pd.np.int64,\n",
    "'hotel_country': pd.np.int64,\n",
    "'hotel_market': pd.np.int64}"
   ]
  },
  {
   "cell_type": "code",
   "execution_count": null,
   "metadata": {
    "collapsed": false
   },
   "outputs": [],
   "source": [
    "%%time\n",
    "all_test = pd.read_csv('test.csv', dtype=test_dtypes)"
   ]
  },
  {
   "cell_type": "code",
   "execution_count": null,
   "metadata": {
    "collapsed": false
   },
   "outputs": [],
   "source": [
    "%%time\n",
    "all_test['orig_destination_distance'] = all_test['orig_destination_distance'].fillna(-1)\n",
    "all_test['date_time'] = pd.to_datetime(all_test['date_time'], errors='coerce')\n",
    "all_test['srch_ci'] = pd.to_datetime(all_test['srch_ci'], errors='coerce')\n",
    "all_test['srch_co'] = pd.to_datetime(all_test['srch_co'], errors='coerce')\n",
    "all_test['activity_month'] = all_test['date_time'].fillna(-1).dt.month.astype(int)\n",
    "all_test['activity_year'] = all_test['date_time'].fillna(-1).dt.year.astype(int)\n",
    "all_test['activity_dow'] = all_test['date_time'].fillna(-1).dt.dayofweek.astype(int)\n",
    "all_test['activity_day'] = all_test['date_time'].fillna(-1).dt.day.astype(int)\n",
    "all_test['activity_quarter'] = all_test['date_time'].fillna(-1).dt.quarter.astype(int)\n",
    "all_test['checkin_month'] = all_test['srch_ci'].fillna(-1).dt.month.astype(int)\n",
    "all_test['checkin_year'] = all_test['srch_ci'].fillna(-1).dt.year.astype(int)\n",
    "all_test['checkin_dow'] = all_test['srch_ci'].fillna(-1).dt.dayofweek.astype(int)\n",
    "all_test['checkin_day'] = all_test['srch_ci'].fillna(-1).dt.day.astype(int)\n",
    "all_test['checkin_quarter'] = all_test['srch_ci'].fillna(-1).dt.quarter.astype(int)\n",
    "all_test['checkout_month'] = all_test['srch_co'].fillna(-1).dt.month.astype(int)\n",
    "all_test['checkout_year'] = all_test['srch_co'].fillna(-1).dt.year.astype(int)\n",
    "all_test['checkout_dow'] = all_test['srch_co'].fillna(-1).dt.dayofweek.astype(int)\n",
    "all_test['checkout_day'] = all_test['srch_co'].fillna(-1).dt.day.astype(int)\n",
    "all_test['checkout_quarter'] = all_test['srch_co'].fillna(-1).dt.quarter.astype(int)\n",
    "all_test['stay_length'] = (all_test['srch_co'] - all_test['srch_ci']).astype(int)\n",
    "#Split groups into two different classifiers for destinations vs. no destinations"
   ]
  },
  {
   "cell_type": "code",
   "execution_count": null,
   "metadata": {
    "collapsed": false
   },
   "outputs": [],
   "source": [
    "%%time\n",
    "all_test = pd.merge(all_test, destinations_reduced, how='left')"
   ]
  },
  {
   "cell_type": "code",
   "execution_count": null,
   "metadata": {
    "collapsed": false
   },
   "outputs": [],
   "source": [
    "%%time\n",
    "all_test.fillna(-1, inplace=True)"
   ]
  },
  {
   "cell_type": "code",
   "execution_count": null,
   "metadata": {
    "collapsed": false
   },
   "outputs": [],
   "source": [
    "%%time\n",
    "test_features = all_test[features]"
   ]
  },
  {
   "cell_type": "code",
   "execution_count": null,
   "metadata": {
    "collapsed": false
   },
   "outputs": [],
   "source": [
    "%%time\n",
    "test_probs = pd.DataFrame(forest.predict_proba(test_features))"
   ]
  },
  {
   "cell_type": "code",
   "execution_count": null,
   "metadata": {
    "collapsed": false
   },
   "outputs": [],
   "source": [
    "%%time\n",
    "#pred = pd.DataFrame([list([r.nlargest(5).index]) for i,r in pred_probs.iterrows()])\n",
    "test_pred = pd.DataFrame([list([r.sort_values(ascending=False)[:5].index.values]) for i,r in test_probs.iterrows()])"
   ]
  },
  {
   "cell_type": "code",
   "execution_count": null,
   "metadata": {
    "collapsed": false
   },
   "outputs": [],
   "source": [
    "%%time\n",
    "submission = pd.DataFrame()\n",
    "submission['id'] = all_test['id']\n",
    "submission['hotel_cluster'] = [' '.join(str(x) for x in y) for y in test_pred.values]"
   ]
  },
  {
   "cell_type": "code",
   "execution_count": null,
   "metadata": {
    "collapsed": false
   },
   "outputs": [],
   "source": [
    "submission.head()"
   ]
  },
  {
   "cell_type": "code",
   "execution_count": null,
   "metadata": {
    "collapsed": true
   },
   "outputs": [],
   "source": [
    "submission.sort_values(by='id', inplace=True)"
   ]
  },
  {
   "cell_type": "code",
   "execution_count": null,
   "metadata": {
    "collapsed": false
   },
   "outputs": [],
   "source": [
    "%%time\n",
    "submission.to_csv('submission.csv', index=False)"
   ]
  },
  {
   "cell_type": "code",
   "execution_count": null,
   "metadata": {
    "collapsed": true
   },
   "outputs": [],
   "source": []
  }
 ],
 "metadata": {
  "kernelspec": {
   "display_name": "Python 2",
   "language": "python",
   "name": "python2"
  },
  "language_info": {
   "codemirror_mode": {
    "name": "ipython",
    "version": 2
   },
   "file_extension": ".py",
   "mimetype": "text/x-python",
   "name": "python",
   "nbconvert_exporter": "python",
   "pygments_lexer": "ipython2",
   "version": "2.7.11"
  }
 },
 "nbformat": 4,
 "nbformat_minor": 0
}
